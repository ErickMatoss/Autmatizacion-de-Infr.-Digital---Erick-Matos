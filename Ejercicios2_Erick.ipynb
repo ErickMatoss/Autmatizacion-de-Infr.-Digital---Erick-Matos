{
  "nbformat": 4,
  "nbformat_minor": 0,
  "metadata": {
    "colab": {
      "name": "Ejercicios2-Erick.ipynb",
      "provenance": [],
      "collapsed_sections": [],
      "authorship_tag": "ABX9TyNObPwXNYZA0SQ7Yd54IR8F",
      "include_colab_link": true
    },
    "kernelspec": {
      "name": "python3",
      "display_name": "Python 3"
    },
    "language_info": {
      "name": "python"
    },
    "accelerator": "TPU"
  },
  "cells": [
    {
      "cell_type": "markdown",
      "metadata": {
        "id": "view-in-github",
        "colab_type": "text"
      },
      "source": [
        "<a href=\"https://colab.research.google.com/github/ErickMatoss/Autmatizacion-de-Infr.-Digital---Erick-Matos/blob/main/Ejercicios2_Erick.ipynb\" target=\"_parent\"><img src=\"https://colab.research.google.com/assets/colab-badge.svg\" alt=\"Open In Colab\"/></a>"
      ]
    },
    {
      "cell_type": "code",
      "metadata": {
        "colab": {
          "base_uri": "https://localhost:8080/"
        },
        "id": "tz2i8n886RQt",
        "outputId": "587afa4e-be61-4638-c46e-8c7d9d553542"
      },
      "source": [
        "#Ejercicio 1. Erick Javier Matos Ramos\n",
        "def contar(url):  #definimos la función\n",
        "  from urllib.request import urlopen  #Esta libreria funciona para abrir url\n",
        "  url = urlopen(url) #usamos la funcion urlopen y le pasamos la url que querramos\n",
        "  palabras = url.read() #en una variable metemos el contenido leido por .read() de la url que contiene un archivo.txt\n",
        "  return len(palabras.split())  #retorna el conteo de las palabras\n",
        "\n",
        "direccion = input(\"Porfavor ingresa la url: \") #le pedimos al usuario la url\n",
        "print(\"\\n El archivo contiene \",contar(direccion), \" Palabras\") #imprimimos el resultado mandano la direccion a la funcion contar\n",
        "\n",
        "#NOTA: usar la siguiente url que es donde esta el archivo \n",
        "#    https://raw.githubusercontent.com/ErickMatoss/archivospruebas/main/prueba.txt\n"
      ],
      "execution_count": null,
      "outputs": [
        {
          "output_type": "stream",
          "text": [
            "Porfavor ingresa la url: https://raw.githubusercontent.com/ErickMatoss/archivospruebas/main/prueba.txt\n",
            "\n",
            " El archivo contiene  203  Palabras\n"
          ],
          "name": "stdout"
        }
      ]
    },
    {
      "cell_type": "code",
      "metadata": {
        "id": "H8PZZiCOl-xs"
      },
      "source": [
        "#Ejercicio2\n",
        "def obtenerpib(url, pais):\n",
        "    from urllib.request import urlopen  #Esta libreria funciona para abrir url\n",
        "    from urllib.error import URLError  #Libreria en caso de que exista un erro o no exista la URL \n",
        "    try: #prueba abrir la url\n",
        "        direccion = urlopen(url) #con el comando urlopen abrimos la url y lo almacenamos en direccion\n",
        "    except URLError: #si sale error deja de correr el programa \n",
        "        return('URL INVALIDA') #y manda este mensaje caso de que la url no sea valida\n",
        "    else: #de lo contrario continua con el codigo\n",
        "        lectura = direccion.read() #lee el contenido de cireccion\n",
        "        contenido = lectura.decode('utf-8').split('\\n') #guardamos cada linea del contenido de la pagina en una lista\n",
        "        contenido = [x.split('\\t') for x in contenido] #dividimos cada linea de la lista con tab\n",
        "        contenido = [list(map(str.strip, x)) for x in contenido] #eliminamos espacios en blanco \n",
        "        for x in contenido:\n",
        "            x[0] = x[0].split(',')[-1] #usamos un for para recorrer los elementos de la lista y obtenerel código del país del primero\n",
        "        contenido[0][0] = 'anios' \n",
        "        contenido = {x[0]:x[1:] for x in contenido}\n",
        "        result = {contenido['anios'][x]:contenido[pais][x] for x in range(len(contenido['anios']))} #nos da como resultado el pib del año \n",
        "        return result\n",
        "\n",
        "pais = input('Ingresa codigo del pais: ')\n",
        "print('Pais Seleccionado: ',pais)\n",
        "print('Año', '\\t', 'PIB')\n",
        "for anio, pib in obtenerpib('https://ec.europa.eu/eurostat/estat-navtree-portlet-prod/BulkDownloadListing?file=data/sdg_08_10.tsv.gz&unzip=true',pais).items():\n",
        "    print(anio, '\\t', pib) #imprimimos el pib de cada año"
      ],
      "execution_count": null,
      "outputs": []
    },
    {
      "cell_type": "code",
      "metadata": {
        "id": "GUXlR0wQbJUh",
        "colab": {
          "base_uri": "https://localhost:8080/"
        },
        "outputId": "6f3b55a9-4e04-47f1-fb1f-02b667b63ad0"
      },
      "source": [
        "#Ejercicio 3\n",
        "import os\n",
        "\n",
        "def crear_listin(): #funcion para crear listin.txt\n",
        "  archivo = 'listin.txt'\n",
        "  if os.path.isfile(archivo): #revisamos si existe el archivo\n",
        "    a = print('Ya existe un archivo de telefonos.') #si existe mandamos un mensaje\n",
        "  else:\n",
        "    r = input('Archivo inexistente desea crear uno:? S/N: \\t') # si no existe damos la opcion de crearlo\n",
        "    if r == 'S':\n",
        "      file = open('listin.txt','a+')\n",
        "      a = print('Archivo creado')\n",
        "    else:\n",
        "      if r == 'N':\n",
        "        a = print('Archivo no creado')\n",
        "        return a\n",
        "\n",
        "def agregar(cliente, tel): #funcion para agregar un cliente\n",
        "  archivo = 'listin.txt'\n",
        "  txt = open(archivo,'a')\n",
        "  txt.write(cliente + ',' + tel + '\\n')\n",
        "  txt.close()\n",
        "  return ('El teléfono se ha añadido.\\n')  \n",
        "\n",
        "def eliminar(cliente): #funcion para eliminar un cliente\n",
        "  archivo = 'listin.txt'\n",
        "  txt = open(archivo, 'r')\n",
        "  directorio = txt.readlines()\n",
        "  txt.close()\n",
        "  directorio = dict([tuple(line.split(',')) for line in directorio])\n",
        "  if cliente in directorio:\n",
        "    del directorio[cliente]\n",
        "    txt = open(archivo, 'w')\n",
        "    for cliente, tel in directorio.items():\n",
        "      txt.write(cliente + ',' + tel)\n",
        "      txt.close()\n",
        "    return ('Cliente borrado \\n')\n",
        "  else:\n",
        "    return ('Cliente ' + cliente + ' no existe \\n')\n",
        "\n",
        "def consultar(cliente): #funcion para consultar los datos\n",
        "  archivo = 'listin.txt'\n",
        "  txt = open(archivo, 'r')\n",
        "  directorio = txt.readlines()\n",
        "  txt.close()\n",
        "  directorio = dict([tuple(line.split(',')) for line in directorio])\n",
        "  if cliente in directorio:\n",
        "    print(\"El numero de telefono del cliente es: \")\n",
        "    return directorio[cliente]\n",
        "  else:\n",
        "    return ('Cliente ' + cliente + ' no existe \\n')\n",
        "\n",
        "\n",
        "###################################### MENU ###########################################################\n",
        "\n",
        "def opciones():  #son las opciones del  menu a realizar del 0 al 4  en otros lenguajes usaria un switch pero aqui no hay \n",
        "  archivo = 'listin.txt'\n",
        "  opcion = input('Introduzca el número de la opción deseada: ')\n",
        "  if opcion == '0':\n",
        "    print('GRACIAS, Hasta luego')\n",
        "    exit()\n",
        "  if opcion == '1':\n",
        "    crear_listin()\n",
        "    opciones()\n",
        "  elif opcion == '2':\n",
        "    if os.path.isfile(archivo):\n",
        "      cliente = input('Introduce el nombre del cliente: ')\n",
        "      print(consultar(cliente))\n",
        "      opciones()\n",
        "    else:\n",
        "      print('No hay listin.txt')\n",
        "      crear_listin()\n",
        "      opciones()\n",
        "  elif opcion == '3':\n",
        "    if os.path.isfile(archivo):\n",
        "      cliente = input('Introduce el nombre del cliente: ')\n",
        "      tel = input('Introduce el teléfono del cliente: ')\n",
        "      print(agregar(cliente,tel))\n",
        "      opciones()\n",
        "    else:\n",
        "      print('No hay listin.txt')\n",
        "      crear_listin()\n",
        "      opciones()\n",
        "  elif opcion == '4':\n",
        "    if os.path.isfile(archivo): #agrego este codigo en cada opcion para siempre hacer un chequeo de que exista listin.txt\n",
        "      cliente = input('Introduce el nombre del cliente: ')\n",
        "      print(eliminar(cliente))\n",
        "      opciones()\n",
        "    else:\n",
        "      print('No hay listin.txt')\n",
        "      crear_listin() \n",
        "      opciones() #agrego esta funcion a cada opcion para que no se salga del menu y pueda seguir seleccionando otras opciones\n",
        "  elif opcion < '0' or opcion > '4':\n",
        "    print('Opcion no valida')\n",
        "    opciones()\n",
        "  return \n",
        "\n",
        "#Pequeño menu \n",
        "print('MENU DEL LISTIN')\n",
        "print('1 - Verificar si hay listin o crear')\n",
        "print('2 - Consultar')\n",
        "print('3 - Añadir')\n",
        "print('4 - Eliminar')\n",
        "print('0 - Salir')\n",
        "opciones()\n",
        "##########################################################################################################\n",
        "\n",
        "\n",
        "  \n"
      ],
      "execution_count": null,
      "outputs": [
        {
          "output_type": "stream",
          "text": [
            "MENU DEL LISTIN\n",
            "1 - Verificar si hay listin o crear\n",
            "2 - Consultar\n",
            "3 - Añadir\n",
            "4 - Eliminar\n",
            "0 - Salir\n",
            "Introduzca el número de la opción deseada: 0\n",
            "GRACIAS, Hasta luego\n"
          ],
          "name": "stdout"
        }
      ]
    },
    {
      "cell_type": "code",
      "metadata": {
        "id": "LgrHO3B_ITdL",
        "colab": {
          "base_uri": "https://localhost:8080/"
        },
        "outputId": "2efaa61c-d99c-479a-ea16-46e3030fc644"
      },
      "source": [
        "#Ejercicio 4\n",
        "def aplicar_desc(precio, descuento): #funcin para aplicar el descuento\n",
        "    return precio - precio * descuento / 100  #se calcula el precio total menos el descuento\n",
        "    \n",
        "def aplicar_iva(precio, iva):\n",
        "    return precio + precio * iva / 100 #calculamos el iva\n",
        "\n",
        "def precio_cesta(cesta, funcion): #esta calcula el precio de la cesta\n",
        "    total = 0 \n",
        "    for precio, descuento in cesta.items(): #cesta es el diccionario\n",
        "        total += funcion(precio, descuento)\n",
        "    return total\n",
        "\n",
        "print('Precio de cesta con descuento es: ', precio_cesta({4500:20, 5800:10, 1100:1}, aplicar_desc))\n",
        "print('Precio de cesta con IVA es: ', precio_cesta({4500:20, 5800:10, 1100:1}, aplicar_iva))"
      ],
      "execution_count": 63,
      "outputs": [
        {
          "output_type": "stream",
          "text": [
            "Precio de cesta con descuento es:  9909.0\n",
            "Precio de cesta con IVA es:  12891.0\n"
          ],
          "name": "stdout"
        }
      ]
    },
    {
      "cell_type": "code",
      "metadata": {
        "id": "Q_j_MLdnLQrI"
      },
      "source": [
        "#Ejercicio 5\n",
        "from math import sin, cos, tan, exp, log #ya existe la libreria con los calculos en python, por lo tanto la llamamos\n",
        "\n",
        "def calculadora_cient():\n",
        "    funciones = {'seno':sin, 'coseno':cos, 'tangente':tan, 'exponencial':exp, 'logaritmo':log} #asociamos cada funcion con una etiquete en un diccionario\n",
        "    f = input('¿Que funcion desea aplicar? (seno, coseno, tangente, exponencial, logaritmo): ')\n",
        "    n = int(input('Introduce un entero positivo: '))\n",
        "    resultados = [funciones[f](x) for x in range(1, n+1)]\n",
        "    for i in range(n):\n",
        "        print (i + 1, '\\t', resultados[i])\n",
        "    return\n",
        "\n",
        "calculadora_cient()"
      ],
      "execution_count": null,
      "outputs": []
    },
    {
      "cell_type": "code",
      "metadata": {
        "colab": {
          "base_uri": "https://localhost:8080/"
        },
        "id": "1jBNFwlOMDkD",
        "outputId": "00bdd55b-0769-4b68-826b-e4b0a26cd32d"
      },
      "source": [
        "#Ejercico 6\n",
        "def calificacion(calif):\n",
        "    if calif < 5:\n",
        "        return 'REPROBADO'\n",
        "    elif calif < 7:\n",
        "        return 'NECESARIO'\n",
        "    elif calif < 9:\n",
        "        return 'SUFICIENTE'\n",
        "    elif calif <= 10:\n",
        "        return 'SOBRESALIENTE'\n",
        "    else:\n",
        "        return 'NA'\n",
        "\n",
        "def aplicacion_calif(calif):\n",
        "\n",
        "    return [calificacion(x) for x in calif]\n",
        "\n",
        "list=[]  #creamos una lista vacia llamada list\n",
        "n = int (input(\"¿Cuantos datos vas a ingresar a la lista?: \")) #le preguntamos al usuario cuantos datos ingresar \n",
        "for x in range(n):  #se hace un for donde pedira datos ingresandolo a la lista dependiendo de la cantidad que se haya puesto\n",
        "    valor=int(input(\"Ingrese un valor entero:\")) #los va pidiend y agregando a la lista\n",
        "    list.append(valor)\n",
        "    #podemos imprimir la lista desconmentando la siguiente linea de codigo\n",
        "    #print(list)       \n",
        "print(aplicacion_calif(list))\n"
      ],
      "execution_count": null,
      "outputs": [
        {
          "output_type": "stream",
          "text": [
            "¿Cuantos datos vas a ingresar a la lista?: 2\n",
            "Ingrese un valor entero:10\n",
            "Ingrese un valor entero:9\n",
            "['SOBRESALIENTE', 'SOBRESALIENTE']\n"
          ],
          "name": "stdout"
        }
      ]
    },
    {
      "cell_type": "code",
      "metadata": {
        "id": "chRyUfpJOOIh",
        "colab": {
          "base_uri": "https://localhost:8080/"
        },
        "outputId": "9357f6f7-aafc-4994-b908-8dccb7d07a0c"
      },
      "source": [
        "#Ejercicio 7\n",
        "contraseña = input('Introduce la contraseña: ') #aqui tenia un ' y un \", y no se cerraba \n",
        "if contraseña in ['sesamo']: #aqui tenia un parentesis en ves de []\n",
        " print('Pasa')\n",
        "else: #le faltaron estos dos puntos\n",
        " print('No pasa')"
      ],
      "execution_count": 72,
      "outputs": [
        {
          "output_type": "stream",
          "text": [
            "Introduce la contraseña: sesamo\n",
            "Pasa\n"
          ],
          "name": "stdout"
        }
      ]
    },
    {
      "cell_type": "code",
      "metadata": {
        "colab": {
          "base_uri": "https://localhost:8080/"
        },
        "id": "KgNYmmSUZsMY",
        "outputId": "dc8bc335-b30a-4d0d-fc89-c6a9ef52ed2e"
      },
      "source": [
        "#Ejercicio 8\n",
        "\n",
        "base = float (input('Introduce la base imponible de la factura: ')) #aqui se puso float para que acepte valores con decimales\n",
        "\n",
        "def aplica_iva(base, iva = 16):\n",
        " base += base * iva /100 #la for,mula del iva estaba mal, se aplico la formula correcta\n",
        " return base \n",
        "\n",
        "\n",
        "print(aplica_iva(base)) #aqui mandaba 2 valores, base e iva, pero iva ya era una contante de 16 en la funcion\n"
      ],
      "execution_count": 78,
      "outputs": [
        {
          "output_type": "stream",
          "text": [
            "Introduce la base imponible de la factura: 400\n",
            "464.0\n"
          ],
          "name": "stdout"
        }
      ]
    },
    {
      "cell_type": "code",
      "metadata": {
        "colab": {
          "base_uri": "https://localhost:8080/"
        },
        "id": "anxTXwYIakTl",
        "outputId": "9692844b-9b92-4f46-e0bc-36c998e52cbb"
      },
      "source": [
        "a = ((1, 2, 3),\n",
        "     (3, 2, 1))\n",
        "b = ((1, 2),\n",
        "     (3, 4),\n",
        "     (5, 6))\n",
        "#para empezar tenia severos problemas de identacion\n",
        "def producto(a, b):\n",
        "    producto = []\n",
        "    for i in range(len(a)): #aqui tenia b por lo tanto iba a umentar mal por el for\n",
        "        fila = [] \n",
        "        for j in range(len(b[0])):\n",
        "            suma = 0\n",
        "            for k in range(len(a[0])): #aqui tenia a[0]+1 por lo tanto el for iba a empezar del segundo elemento en adelante\n",
        "                suma += a[i][k] * b[k][j]\n",
        "            fila.append(suma) #aqui se le agrego el append porque es agregar elemento a la lista\n",
        "        producto.append(tuple(fila)) #agregamos los elementos\n",
        "    return tuple(producto)\n",
        "\n",
        "print(producto(a, b))"
      ],
      "execution_count": 90,
      "outputs": [
        {
          "output_type": "stream",
          "text": [
            "((22, 28), (14, 20))\n"
          ],
          "name": "stdout"
        }
      ]
    },
    {
      "cell_type": "code",
      "metadata": {
        "colab": {
          "base_uri": "https://localhost:8080/"
        },
        "id": "ho-hpAX4cA7L",
        "outputId": "bae6cba8-a9b5-437b-f5b0-50f4d84dbe44"
      },
      "source": [
        "#Ejercicio 10\n",
        "\n",
        "#problemas de identacion\n",
        "u = [1, 2, 3] #tenia () cuando eran []\n",
        "v = [4, 5, 6]\n",
        "\n",
        "def producto_escalar(u, v):\n",
        "  for i in range(len(u)): #estaba incompleto el comando de for falto el range y len para la longitud de los objetos de u para determinar cuantas iteraciones sera el for\n",
        "    u[i] *= v[i] #como el producto escalar se tiene que multplicar elemento por elemento antes se multiplicaban elemento por elemento pero por el +1 se salia de rango y no hacia esa operacion\n",
        "  return sum(u) #retorna la suma \n",
        "print(producto_escalar(u, v))"
      ],
      "execution_count": 97,
      "outputs": [
        {
          "output_type": "stream",
          "text": [
            "32\n"
          ],
          "name": "stdout"
        }
      ]
    }
  ]
}