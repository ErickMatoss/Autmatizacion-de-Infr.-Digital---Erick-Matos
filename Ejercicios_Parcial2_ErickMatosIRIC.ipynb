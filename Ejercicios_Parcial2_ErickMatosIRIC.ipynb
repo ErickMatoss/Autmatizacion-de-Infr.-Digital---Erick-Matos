{
  "nbformat": 4,
  "nbformat_minor": 0,
  "metadata": {
    "colab": {
      "name": "Ejercicios-Parcial2-ErickMatosIRIC.ipynb",
      "provenance": [],
      "collapsed_sections": [],
      "authorship_tag": "ABX9TyOdnp1cTNVmXWeySQ6TcTPC",
      "include_colab_link": true
    },
    "kernelspec": {
      "name": "python3",
      "display_name": "Python 3"
    },
    "language_info": {
      "name": "python"
    }
  },
  "cells": [
    {
      "cell_type": "markdown",
      "metadata": {
        "id": "view-in-github",
        "colab_type": "text"
      },
      "source": [
        "<a href=\"https://colab.research.google.com/github/ErickMatoss/Autmatizacion-de-Infr.-Digital---Erick-Matos/blob/main/Ejercicios_Parcial2_ErickMatosIRIC.ipynb\" target=\"_parent\"><img src=\"https://colab.research.google.com/assets/colab-badge.svg\" alt=\"Open In Colab\"/></a>"
      ]
    },
    {
      "cell_type": "code",
      "metadata": {
        "colab": {
          "base_uri": "https://localhost:8080/"
        },
        "id": "KP6HSuJyAPqc",
        "outputId": "1d42e8ee-c611-4c19-f869-cfa80defc093"
      },
      "source": [
        "#Erick Javier Matos Ramos EJERCICIO 1\n",
        "#funcion para calcular el iva\n",
        "def calcular_iva(total, iva):\n",
        "    result= total + total*(iva/100)\n",
        "    print(\"El precio total de la factura con el\", iva , \"% de iva es: \" )\n",
        "    return result\n",
        "#pedimos los datos al usuario en este caso se le pide el total de la factura sin iva y el porcentaje\n",
        "t=float (input(\"Introduzca el total (sin iva): \"))\n",
        "i=input(\"Introduzca el porcentaje a aplicar: \")\n",
        "\n",
        "#Aqui creo un if en donde si la variable i (el porcentaje iva a aplicar) no tiene algun valor asignado\n",
        "#tome como porcentaje por default el 21% que pide el ejercicio (se puede dejar iva vacio)\n",
        "if not i:\n",
        "  print(calcular_iva(t,21))\n",
        "else: #si el usuario le asigna un porcenaje entonces \n",
        "  ii=float (i)  #se convierte el iva en float para poder hacer la operacion y el porcentaje seria el que puso el usuario\n",
        "  print(calcular_iva(t,ii))  #se aplica la funcion\n",
        "\n"
      ],
      "execution_count": 29,
      "outputs": [
        {
          "output_type": "stream",
          "text": [
            "Introduzca el total (sin iva): 100\n",
            "Introduzca el porcentaje a aplicar: \n",
            "El precio total de la factura con el 21 % de iva es: \n",
            "121.0\n"
          ],
          "name": "stdout"
        }
      ]
    },
    {
      "cell_type": "code",
      "metadata": {
        "colab": {
          "base_uri": "https://localhost:8080/"
        },
        "id": "P3_NFJv24P_m",
        "outputId": "2745c71a-bf46-48c2-dee8-95ce5d43671a"
      },
      "source": [
        "#Ejercicio 2\n",
        "\n",
        "#función para calcular el area del circulo con la formula pi por radio al cuadrado\n",
        "def area_circulo(radio):\n",
        "  area = 3.1416 * radio*radio\n",
        "  return area\n",
        "#funcion para calcular el volumen del cilindro con la formula\n",
        "#pi por radio al cuadrado por la altura \n",
        "#como ya tenemos pi por radio al cuadrado que es el area del circulo\n",
        "#usamos esa funcion y lo multiplicamos por la altura \n",
        "def vol_cilindro(altura):\n",
        "  vol = altura * area_circulo(r) #multiplicamos el area del circulo por la altura para tener el volumen\n",
        "  return vol\n",
        "\n",
        "#pedimos los datos al usuario\n",
        "r= float (input('Ingresa el valor del radio del circulo: '))\n",
        "print(\"El area del circulo es: \", area_circulo(r))\n",
        "\n",
        "h= float (input('Ingresa el valor de la altura del clindro: '))\n",
        "print(\"El volumento del cilindro es: \",vol_cilindro(h))"
      ],
      "execution_count": 43,
      "outputs": [
        {
          "output_type": "stream",
          "text": [
            "Ingresa el valor del radio del circulo: 10\n",
            "El area del circulo es:  314.16\n",
            "Ingresa el valor de la altura del clindro: 10\n",
            "El volumento del cilindro es:  3141.6000000000004\n"
          ],
          "name": "stdout"
        }
      ]
    },
    {
      "cell_type": "code",
      "metadata": {
        "colab": {
          "base_uri": "https://localhost:8080/"
        },
        "id": "dcs93QoD7JQn",
        "outputId": "dd75f6be-e5a4-40fd-ebbd-881655b42f58"
      },
      "source": [
        "#Ejercicio 3\n",
        "\n",
        "#funcion para calcular la media \n",
        "def media_lista(lista):\n",
        "  media=sum(lista)/len(lista) #se suman todos los datos de la lista y se dividen entre la cantidad de datos \n",
        "  return media  #se regresa el valor obtenido\n",
        "  \n",
        "list=[]  #creamos una lista vacia llamada list\n",
        "n = int (input(\"¿Cuantos datos vas a ingresar a la lista?: \")) #le preguntamos al usuario cuantos datos ingresar \n",
        "for x in range(n):  #se hace un for donde pedira datos ingresandolo a la lista dependiendo de la cantidad que se haya puesto\n",
        "    valor=int(input(\"Ingrese un valor entero:\")) #los va pidiend y agregando a la lista\n",
        "    list.append(valor)\n",
        "    #podemos imprimir la lista desconmentando la siguiente linea de codigo\n",
        "    #print(list)       \n",
        "print(\"La media de los numeros de la lista es: \",media_lista(list))  #Se pasa la lista a la funcion y se imprime el resultado\n"
      ],
      "execution_count": 82,
      "outputs": [
        {
          "output_type": "stream",
          "text": [
            "¿Cuantos datos vas a ingresar a la lista?: 5\n",
            "Ingrese un valor entero:1\n",
            "Ingrese un valor entero:2\n",
            "Ingrese un valor entero:3\n",
            "Ingrese un valor entero:4\n",
            "Ingrese un valor entero:5\n",
            "La media de los numeros de la lista es:  3.0\n"
          ],
          "name": "stdout"
        }
      ]
    },
    {
      "cell_type": "code",
      "metadata": {
        "colab": {
          "base_uri": "https://localhost:8080/"
        },
        "id": "pThdPH2i_Zwj",
        "outputId": "246691c0-2c8b-445c-cf57-2c4f758ee37f"
      },
      "source": [
        "#Ejercicio 4\n",
        "#funcion para elevar al cuadrado los elmentos de una lista\n",
        "def cuad_lista(lista):\n",
        "  for i in range(0,len(lista)): #hacemos un for para recorrer los elementos de la lista\n",
        "\t  lista[i]=lista[i]*lista[i] #se eleva al cuadrado cada elemento \n",
        "  return lista\n",
        "\n",
        "\n",
        "#reclicamos dele ejercicio anterior \n",
        "list=[]  #creamos una lista vacia llamada list\n",
        "n = int (input(\"¿Cuantos datos vas a ingresar a la lista?: \")) #le preguntamos al usuario cuantos datos ingresar \n",
        "for x in range(n):  #se hace un for donde pedira datos ingresandolo a la lista dependiendo de la cantidad que se haya puesto\n",
        "    valor=int(input(\"Ingrese un valor entero:\")) #los va pidiend y agregando a la lista\n",
        "    list.append(valor)\n",
        "    #podemos imprimir la lista desconmentando la siguiente linea de codigo\n",
        "print(\"El cuadrado de cada elemento de la lista es: \", cuad_lista(list)) "
      ],
      "execution_count": 93,
      "outputs": [
        {
          "output_type": "stream",
          "text": [
            "¿Cuantos datos vas a ingresar a la lista?: 5\n",
            "Ingrese un valor entero:1\n",
            "Ingrese un valor entero:2\n",
            "Ingrese un valor entero:3\n",
            "Ingrese un valor entero:4\n",
            "Ingrese un valor entero:5\n",
            "El cuadrado de cada elemento de la lista es:  [1, 4, 9, 16, 25]\n"
          ],
          "name": "stdout"
        }
      ]
    },
    {
      "cell_type": "code",
      "metadata": {
        "colab": {
          "base_uri": "https://localhost:8080/"
        },
        "id": "P7Ce21aWLHh1",
        "outputId": "52a384b4-23ff-43bc-b631-167602b7f775"
      },
      "source": [
        "#Ejercicio 5\n",
        "\n",
        "#reclicamos la funcion de los cuadras porque la necesitaremos en este ejercicio \n",
        "#NOTA: como estamos en la misma libreta de python, puedo omitir volver a poner esta funcion, ya que ya existe pero \n",
        "#por fines educativos y para que se vea mejor, decidí volver a poner el codigo de la funcion\n",
        "def cuad_lista(lista):\n",
        "  for i in range(0,len(lista)): #hacemos un for para recorrer los elementos de la lista\n",
        "\t  lista[i]=lista[i]*lista[i] #se eleva al cuadrado cada elemento \n",
        "  return lista\n",
        "\n",
        "#Calculamos le media, varianza y desv\n",
        "def operaciones(lista):\n",
        "    op = {}\n",
        "    op['media'] = sum(lista)/len(lista)\n",
        "    op['varianza'] = sum(cuad_lista(lista))/len(lista)-op['media']**2\n",
        "    op['desviacion tipica'] = op['varianza']**0.5\n",
        "    return op\n",
        "\n",
        "#reclicamos dele ejercicio anterior el metodo para ir agregando elementos a una lista\n",
        "list=[]  #creamos una lista vacia llamada list\n",
        "n = int (input(\"¿Cuantos datos vas a ingresar a la lista?: \")) #le preguntamos al usuario cuantos datos ingresar \n",
        "for x in range(n):  #se hace un for donde pedira datos ingresandolo a la lista dependiendo de la cantidad que se haya puesto\n",
        "    valor=float(input(\"Ingrese un valor :\")) #los va pidiend y agregando a la lista\n",
        "    list.append(valor)\n",
        "    #podemos imprimir la lista desconmentando la siguiente linea de codigo\n",
        "print(operaciones(list))"
      ],
      "execution_count": 111,
      "outputs": [
        {
          "output_type": "stream",
          "text": [
            "¿Cuantos datos vas a ingresar a la lista?: 5\n",
            "Ingrese un valor :1\n",
            "Ingrese un valor :2\n",
            "Ingrese un valor :3\n",
            "Ingrese un valor :4\n",
            "Ingrese un valor :5\n",
            "{'media': 3.0, 'varianza': 2.0, 'desviacion tipica': 1.4142135623730951}\n"
          ],
          "name": "stdout"
        }
      ]
    },
    {
      "cell_type": "code",
      "metadata": {
        "colab": {
          "base_uri": "https://localhost:8080/"
        },
        "id": "y5vGIWFSOLtu",
        "outputId": "7e86dfc2-b30c-4df6-ef13-05ea1f8c9664"
      },
      "source": [
        "#Ejercicio 6\n",
        "#Funcion para calcular el máximo comun divisor\n",
        "def mcd(n1, n2):\n",
        "    resto = 0\n",
        "    while(n2 > 0): #mientras el resto sea diferente de 0 quiere decir que aun tiene dividendos\n",
        "        resto = n2\n",
        "        n2 = n1 % n2 #el modulo entre n1 y n2 para sacar el resto \n",
        "        n1 = resto\n",
        "    return n1\n",
        "\n",
        "def mcm(n1, n2):\n",
        "    minimo = int ((n1 * n2) / mcd(n1, n2))  #se calcula dividiendo el producto de ambos numeros entre el mcd calculado anteriormente\n",
        "    return minimo\n",
        "\n",
        "n1 = int (input('Ingrese el primer numero: '))\n",
        "n2 = int (input('Ingrese el segundo numero: '))\n",
        "\n",
        "print(\"El máximo comun divisor de \", n1, \"y \" ,n2, \"es : \",mcd(n1,n2))\n",
        "print(\"El minimo comun multiplo de \", n1, \"y \" ,n2, \"es : \",mcm(n1,n2))\n"
      ],
      "execution_count": 121,
      "outputs": [
        {
          "output_type": "stream",
          "text": [
            "Ingrese el primer numero: 24\n",
            "Ingrese el segundo numero: 36\n",
            "El máximo comun divisor de  24 y  36 es :  12\n",
            "El minimo comun multiplo de  24 y  36 es :  72\n"
          ],
          "name": "stdout"
        }
      ]
    },
    {
      "cell_type": "code",
      "metadata": {
        "colab": {
          "base_uri": "https://localhost:8080/"
        },
        "id": "GZW73ikWREns",
        "outputId": "c088d3b9-7823-4e2f-cb77-b3e3f08ff7b8"
      },
      "source": [
        "#Ejercicio 7\n",
        "\n",
        "#funcion para convertir de decimal a binario\n",
        "def dec_a_bin(decimal):\n",
        "    binario = ''\n",
        "    while decimal // 2 != 0:\n",
        "        binario = str(decimal % 2) + binario\n",
        "        decimal = decimal // 2\n",
        "    return str(decimal) + binario\n",
        "\n",
        "#funcion para convertir de binario a decimal\n",
        "def bin_a_dec(bin):\n",
        "    binario = int (str (bin), 2) #convertimos de binario a decimal, primero pasando el numero bin a cadena\n",
        "    return binario\n",
        "\n",
        "dec = int (input('ingresa valor: '))\n",
        "print(dec_a_bin(dec))\n",
        "bin = input('ingresa valor: ')\n",
        "print(bin_a_dec(bin))\n",
        "\n"
      ],
      "execution_count": 150,
      "outputs": [
        {
          "output_type": "stream",
          "text": [
            "ingresa valor: 89\n",
            "1011001\n",
            "ingresa valor: 1011001\n",
            "89\n"
          ],
          "name": "stdout"
        }
      ]
    },
    {
      "cell_type": "code",
      "metadata": {
        "colab": {
          "base_uri": "https://localhost:8080/"
        },
        "id": "L5xCWIjqVKwA",
        "outputId": "460ce60d-cb2e-4bf3-fdf0-357a46a6bd97"
      },
      "source": [
        "#Ejercicio 8\n",
        "#funcion para contar las palabras, basicamente se va haciendo un contador que aumente siempre y cuando se detecte \n",
        "#que una palabra se repite\n",
        "def contarpalabras(texto):\n",
        "    texto = texto.split()\n",
        "    palabras = {}\n",
        "    for i in texto:\n",
        "        if i in palabras:\n",
        "            palabras[i] += 1 #aumenta el contador\n",
        "        else:\n",
        "            palabras[i] = 1\n",
        "    return palabras #retorna el resultado\n",
        "\n",
        "#funcion para calcular la frecuencia con la cual aparece cada palabras\n",
        "def frecuencia(palabras):\n",
        "    mas_repetida = ''\n",
        "    frec_max = 0\n",
        "    for palabra, frecuencia in palabras.items():\n",
        "        if frecuencia > frec_max:\n",
        "            mas_repetida = palabra\n",
        "            frec_max = frecuencia\n",
        "    return mas_repetida, frec_max\n",
        "\n",
        "texto = input('Ingresa el texto: \\n')\n",
        "print(contarpalabras(texto))\n",
        "print(\"Tupla con palabra mas repetida: \", frecuencia(contarpalabras(texto)))"
      ],
      "execution_count": 165,
      "outputs": [
        {
          "output_type": "stream",
          "text": [
            "Ingresa el texto: \n",
            "Como quieres que te quiera si el que quiero que me quiera no me quiere como quiero que me quiera\n",
            "{'Como': 1, 'quieres': 1, 'que': 4, 'te': 1, 'quiera': 3, 'si': 1, 'el': 1, 'quiero': 2, 'me': 3, 'no': 1, 'quiere': 1, 'como': 1}\n",
            "Tupla con palabra mas repetida:  ('que', 4)\n"
          ],
          "name": "stdout"
        }
      ]
    }
  ]
}