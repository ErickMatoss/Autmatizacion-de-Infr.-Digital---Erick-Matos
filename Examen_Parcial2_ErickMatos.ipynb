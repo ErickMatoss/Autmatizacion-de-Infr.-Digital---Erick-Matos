{
  "nbformat": 4,
  "nbformat_minor": 0,
  "metadata": {
    "colab": {
      "name": "Examen-Parcial2-ErickMatos.ipynb",
      "provenance": [],
      "authorship_tag": "ABX9TyO9dZj+3i3MwIa2I+owLhvZ",
      "include_colab_link": true
    },
    "kernelspec": {
      "name": "python3",
      "display_name": "Python 3"
    },
    "language_info": {
      "name": "python"
    }
  },
  "cells": [
    {
      "cell_type": "markdown",
      "metadata": {
        "id": "view-in-github",
        "colab_type": "text"
      },
      "source": [
        "<a href=\"https://colab.research.google.com/github/ErickMatoss/Autmatizacion-de-Infr.-Digital---Erick-Matos/blob/main/Examen_Parcial2_ErickMatos.ipynb\" target=\"_parent\"><img src=\"https://colab.research.google.com/assets/colab-badge.svg\" alt=\"Open In Colab\"/></a>"
      ]
    },
    {
      "cell_type": "markdown",
      "metadata": {
        "id": "t9raR5RGEKwY"
      },
      "source": [
        "## **Examen Parcial 2**\n",
        "\n",
        "#### Erick Javier Matos Ramos IRIC 9A\n",
        "\n",
        "####1. Crear un DataFrame"
      ]
    },
    {
      "cell_type": "code",
      "metadata": {
        "colab": {
          "base_uri": "https://localhost:8080/"
        },
        "id": "Y_yp9VWeBFNE",
        "outputId": "143114b6-d98a-4843-88c7-8d7f6acf782c"
      },
      "source": [
        "import pandas as pd\n",
        "import matplotlib.pyplot as plt\n",
        "datos = pd.read_csv('https://raw.githubusercontent.com/ErickMatoss/archivospruebas/main/dfexamen.csv') #realize un csv con los datos y lo subi a mi repositorio de github\n",
        "print(datos) #mostramos el dataframe en pantalla"
      ],
      "execution_count": 65,
      "outputs": [
        {
          "output_type": "stream",
          "text": [
            "    Nombre  Edad Genero Provincia  Hijos  Mascotas\n",
            "0     Juan    23      M    Burgos      2         5\n",
            "1    Marta    78      F    Madrid      0         1\n",
            "2    Pedro    22      M    Toledo      0         0\n",
            "3    Jorge    19      M    Burgos      3         5\n",
            "4     Blas    45      M    Madrid      2         2\n",
            "5     Lisa    33      F    Toledo      1         2\n",
            "6  Antonio    20      M    Madrid      4         3\n"
          ],
          "name": "stdout"
        }
      ]
    },
    {
      "cell_type": "markdown",
      "metadata": {
        "id": "iYq3ONkQEXU2"
      },
      "source": [
        "####2. Mostrar la información básica del DataFrame."
      ]
    },
    {
      "cell_type": "code",
      "metadata": {
        "colab": {
          "base_uri": "https://localhost:8080/"
        },
        "id": "yuAkp4zHD6GZ",
        "outputId": "19bf27d6-ce4a-4a36-9f76-3232572abd90"
      },
      "source": [
        "datos.info() #con el comando info se muestra la información basica de cualquier dataframe"
      ],
      "execution_count": 4,
      "outputs": [
        {
          "output_type": "stream",
          "text": [
            "<class 'pandas.core.frame.DataFrame'>\n",
            "RangeIndex: 7 entries, 0 to 6\n",
            "Data columns (total 6 columns):\n",
            " #   Column     Non-Null Count  Dtype \n",
            "---  ------     --------------  ----- \n",
            " 0   Nombre     7 non-null      object\n",
            " 1   Edad       7 non-null      int64 \n",
            " 2   Genero     7 non-null      object\n",
            " 3   Provincia  7 non-null      object\n",
            " 4   Hijos      7 non-null      int64 \n",
            " 5   Mascotas   7 non-null      int64 \n",
            "dtypes: int64(3), object(3)\n",
            "memory usage: 464.0+ bytes\n"
          ],
          "name": "stdout"
        }
      ]
    },
    {
      "cell_type": "markdown",
      "metadata": {
        "id": "60yNpFxXEZj2"
      },
      "source": [
        "####3. Obtener los principales estadísticos de las columnas numéricas."
      ]
    },
    {
      "cell_type": "code",
      "metadata": {
        "colab": {
          "base_uri": "https://localhost:8080/",
          "height": 297
        },
        "id": "-IK753WkEBbw",
        "outputId": "3cc98d2b-28c7-474f-d79e-e3312bdfb787"
      },
      "source": [
        "datos.describe()"
      ],
      "execution_count": 3,
      "outputs": [
        {
          "output_type": "execute_result",
          "data": {
            "text/html": [
              "<div>\n",
              "<style scoped>\n",
              "    .dataframe tbody tr th:only-of-type {\n",
              "        vertical-align: middle;\n",
              "    }\n",
              "\n",
              "    .dataframe tbody tr th {\n",
              "        vertical-align: top;\n",
              "    }\n",
              "\n",
              "    .dataframe thead th {\n",
              "        text-align: right;\n",
              "    }\n",
              "</style>\n",
              "<table border=\"1\" class=\"dataframe\">\n",
              "  <thead>\n",
              "    <tr style=\"text-align: right;\">\n",
              "      <th></th>\n",
              "      <th>Edad</th>\n",
              "      <th>Hijos</th>\n",
              "      <th>Mascotas</th>\n",
              "    </tr>\n",
              "  </thead>\n",
              "  <tbody>\n",
              "    <tr>\n",
              "      <th>count</th>\n",
              "      <td>7.000000</td>\n",
              "      <td>7.000000</td>\n",
              "      <td>7.000000</td>\n",
              "    </tr>\n",
              "    <tr>\n",
              "      <th>mean</th>\n",
              "      <td>34.285714</td>\n",
              "      <td>1.714286</td>\n",
              "      <td>2.571429</td>\n",
              "    </tr>\n",
              "    <tr>\n",
              "      <th>std</th>\n",
              "      <td>21.383126</td>\n",
              "      <td>1.496026</td>\n",
              "      <td>1.902379</td>\n",
              "    </tr>\n",
              "    <tr>\n",
              "      <th>min</th>\n",
              "      <td>19.000000</td>\n",
              "      <td>0.000000</td>\n",
              "      <td>0.000000</td>\n",
              "    </tr>\n",
              "    <tr>\n",
              "      <th>25%</th>\n",
              "      <td>21.000000</td>\n",
              "      <td>0.500000</td>\n",
              "      <td>1.500000</td>\n",
              "    </tr>\n",
              "    <tr>\n",
              "      <th>50%</th>\n",
              "      <td>23.000000</td>\n",
              "      <td>2.000000</td>\n",
              "      <td>2.000000</td>\n",
              "    </tr>\n",
              "    <tr>\n",
              "      <th>75%</th>\n",
              "      <td>39.000000</td>\n",
              "      <td>2.500000</td>\n",
              "      <td>4.000000</td>\n",
              "    </tr>\n",
              "    <tr>\n",
              "      <th>max</th>\n",
              "      <td>78.000000</td>\n",
              "      <td>4.000000</td>\n",
              "      <td>5.000000</td>\n",
              "    </tr>\n",
              "  </tbody>\n",
              "</table>\n",
              "</div>"
            ],
            "text/plain": [
              "            Edad     Hijos  Mascotas\n",
              "count   7.000000  7.000000  7.000000\n",
              "mean   34.285714  1.714286  2.571429\n",
              "std    21.383126  1.496026  1.902379\n",
              "min    19.000000  0.000000  0.000000\n",
              "25%    21.000000  0.500000  1.500000\n",
              "50%    23.000000  2.000000  2.000000\n",
              "75%    39.000000  2.500000  4.000000\n",
              "max    78.000000  4.000000  5.000000"
            ]
          },
          "metadata": {
            "tags": []
          },
          "execution_count": 3
        }
      ]
    },
    {
      "cell_type": "markdown",
      "metadata": {
        "id": "-c5mK2euEov-"
      },
      "source": [
        "####4. Obtener los porcentajes de hombres y mujeres por provincias"
      ]
    },
    {
      "cell_type": "code",
      "metadata": {
        "colab": {
          "base_uri": "https://localhost:8080/"
        },
        "id": "aEvpuE_fEhAp",
        "outputId": "69b83eb3-f305-4386-dc81-ee3ad85f996b"
      },
      "source": [
        "p = datos.groupby('Provincia').Genero.value_counts(normalize = True) \n",
        "porcentaje = p * 100 #Multiplicamos por 100 para que nos de un porcentaje \n",
        "print(porcentaje) #lo imprimimos"
      ],
      "execution_count": 60,
      "outputs": [
        {
          "output_type": "stream",
          "text": [
            "Provincia  Genero\n",
            "Burgos     M         100.000000\n",
            "Madrid     M          66.666667\n",
            "           F          33.333333\n",
            "Toledo     F          50.000000\n",
            "           M          50.000000\n",
            "Name: Genero, dtype: float64\n"
          ],
          "name": "stdout"
        }
      ]
    },
    {
      "cell_type": "markdown",
      "metadata": {
        "id": "QHt3KltDFPRG"
      },
      "source": [
        "#### 5. Representar, mediante un diagrama de dispersión, en número de hijos frente al número de mascotas para las personas de Madrid."
      ]
    },
    {
      "cell_type": "code",
      "metadata": {
        "colab": {
          "base_uri": "https://localhost:8080/",
          "height": 279
        },
        "id": "n3g2PHdTE24h",
        "outputId": "ecfc6dcc-1fba-49ed-8bc2-5918def76541"
      },
      "source": [
        "fig, ax = plt.subplots()#creamos la fig y sus ejes\n",
        "datos_mad = datos[datos.Provincia == 'Madrid'] #filtramos los datos solo los que sean de la provincia madrid\n",
        "datos_mad.plot.scatter(x='Hijos', y= 'Mascotas', ax=ax) #graficamos estos datos filtrados en base a los hijos y mascotas\n",
        "#print(datos_mad) # imprimi los datos como prueba para ver que los datos se hayan filtrado correctamente \n",
        "plt.show()"
      ],
      "execution_count": 58,
      "outputs": [
        {
          "output_type": "display_data",
          "data": {
            "image/png": "[encoded data removed]",
            "text/plain": [
              "<Figure size 432x288 with 1 Axes>"
            ]
          },
          "metadata": {
            "tags": [],
            "needs_background": "light"
          }
        }
      ]
    },
    {
      "cell_type": "markdown",
      "metadata": {
        "id": "ZW42lT7NHnP5"
      },
      "source": [
        "#### 6. Realizar la siguiente gráfica. "
      ]
    },
    {
      "cell_type": "code",
      "metadata": {
        "id": "BO63vG_rH6gZ"
      },
      "source": [
        ""
      ],
      "execution_count": null,
      "outputs": []
    },
    {
      "cell_type": "code",
      "metadata": {
        "colab": {
          "base_uri": "https://localhost:8080/",
          "height": 320
        },
        "id": "OIX_NUZnFgnt",
        "outputId": "88a13023-cffb-4918-d4d4-b48a442fc52d"
      },
      "source": [
        "fig, ax = plt.subplots() #creamos la fig y sus ejes\n",
        "barras = datos.groupby('Provincia').size() #Agrupamos los datos del dataframe (igual llamado datos) por provincia y el numero en que se repiten\n",
        "barras.plot.bar()# aqui decimos que se use la grafica de tipo bar\n",
        "plt.title('Frecuencias por provincia') #titulo del grafico\n",
        "plt.show()#mostramos la grafica"
      ],
      "execution_count": 40,
      "outputs": [
        {
          "output_type": "display_data",
          "data": {
            "image/png": "[encoded data removed]",
            "text/plain": [
              "<Figure size 432x288 with 1 Axes>"
            ]
          },
          "metadata": {
            "tags": [],
            "needs_background": "light"
          }
        }
      ]
    },
    {
      "cell_type": "code",
      "metadata": {
        "id": "MH0NNKY4Ih4S"
      },
      "source": [
        ""
      ],
      "execution_count": null,
      "outputs": []
    }
  ]
}