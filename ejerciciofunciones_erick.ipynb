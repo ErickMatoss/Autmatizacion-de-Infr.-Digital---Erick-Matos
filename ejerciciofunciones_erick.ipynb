{
  "nbformat": 4,
  "nbformat_minor": 0,
  "metadata": {
    "colab": {
      "name": "ejerciciofunciones-erick.ipynb",
      "provenance": [],
      "collapsed_sections": [],
      "authorship_tag": "ABX9TyOgDvY31KwRMxUMN8dMmIpL",
      "include_colab_link": true
    },
    "kernelspec": {
      "name": "python3",
      "display_name": "Python 3"
    },
    "language_info": {
      "name": "python"
    }
  },
  "cells": [
    {
      "cell_type": "markdown",
      "metadata": {
        "id": "view-in-github",
        "colab_type": "text"
      },
      "source": [
        "<a href=\"https://colab.research.google.com/github/ErickMatoss/Autmatizacion-de-Infr.-Digital---Erick-Matos/blob/main/ejerciciofunciones_erick.ipynb\" target=\"_parent\"><img src=\"https://colab.research.google.com/assets/colab-badge.svg\" alt=\"Open In Colab\"/></a>"
      ]
    },
    {
      "cell_type": "code",
      "metadata": {
        "id": "D4p3iG-orjJj"
      },
      "source": [
        "#Primero ejecutar esta celda antes de la siguiente\n",
        "#Declaracion de funciones\n",
        "\n",
        "#Funcion sin parametros\n",
        "def funcion1():\n",
        "    #Contenido de la funcion\n",
        "    print('Has llamado a la funcion')\n",
        "#funcion con parametros y retorno\n",
        "def funcion2 (a,b):\n",
        "    #contenido de la funcion\n",
        "    c=int(a)+int(b)\n",
        "    return c"
      ],
      "execution_count": 5,
      "outputs": []
    },
    {
      "cell_type": "code",
      "metadata": {
        "colab": {
          "base_uri": "https://localhost:8080/"
        },
        "id": "BD5XqKAqroD6",
        "outputId": "52dcd714-e47f-44c3-8682-5dd60e61bb5e"
      },
      "source": [
        "#llamamos las funciones declaradas en otro archivo\n",
        "##from FuncionesExternas import *  #como esta en la misma celda, lo comente ya que no es necesario llamar el archivo \n",
        "\n",
        "#invocamos las funciones\n",
        "funcion1()\n",
        "#invocamos la otra funcion\n",
        "Q=input('Introduzca un dato: ')\n",
        "W=input('Introduzca otro dato: ')\n",
        "print(funcion2(Q,W))"
      ],
      "execution_count": 6,
      "outputs": [
        {
          "output_type": "stream",
          "text": [
            "Has llamado a la funcion\n",
            "Introduzca un dato: 9\n",
            "Introduzca otro dato: 9\n",
            "18\n"
          ],
          "name": "stdout"
        }
      ]
    }
  ]
}